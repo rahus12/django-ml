{
 "cells": [
  {
   "cell_type": "code",
   "execution_count": 22,
   "metadata": {},
   "outputs": [],
   "source": [
    "import pandas as pd\n",
    "import numpy as np\n",
    "import matplotlib.pyplot as plt\n",
    "import tensorflow as tf\n",
    "import keras"
   ]
  },
  {
   "cell_type": "code",
   "execution_count": 39,
   "metadata": {},
   "outputs": [],
   "source": [
    "from keras.preprocessing.image import ImageDataGenerator"
   ]
  },
  {
   "cell_type": "code",
   "execution_count": 40,
   "metadata": {},
   "outputs": [],
   "source": [
    "from keras.models import Sequential\n",
    "from keras.layers import Dense, Dropout, Flatten\n",
    "from keras.layers import Conv2D, MaxPooling2D"
   ]
  },
  {
   "cell_type": "code",
   "execution_count": 32,
   "metadata": {},
   "outputs": [],
   "source": [
    "from sklearn.model_selection import train_test_split"
   ]
  },
  {
   "cell_type": "code",
   "execution_count": 36,
   "metadata": {},
   "outputs": [],
   "source": [
    "datagen = ImageDataGenerator(validation_split=0.3)"
   ]
  },
  {
   "cell_type": "code",
   "execution_count": 37,
   "metadata": {},
   "outputs": [
    {
     "name": "stdout",
     "output_type": "stream",
     "text": [
      "Found 29404 images belonging to 10 classes.\n"
     ]
    }
   ],
   "source": [
    "train_data = datagen.flow_from_directory(directory = 'D:/mnist/trainingSet/trainingSet',target_size=(28,28),subset = 'training')"
   ]
  },
  {
   "cell_type": "code",
   "execution_count": 38,
   "metadata": {},
   "outputs": [
    {
     "name": "stdout",
     "output_type": "stream",
     "text": [
      "Found 12596 images belonging to 10 classes.\n"
     ]
    }
   ],
   "source": [
    "val_data = datagen.flow_from_directory(directory = 'D:/mnist/trainingSet/trainingSet',target_size=(28,28),subset = 'validation')"
   ]
  },
  {
   "cell_type": "code",
   "execution_count": 42,
   "metadata": {},
   "outputs": [],
   "source": [
    "model = Sequential()"
   ]
  },
  {
   "cell_type": "code",
   "execution_count": 44,
   "metadata": {},
   "outputs": [
    {
     "name": "stdout",
     "output_type": "stream",
     "text": [
      "WARNING:tensorflow:From C:\\Users\\Samsug\\anaconda3\\lib\\site-packages\\keras\\backend\\tensorflow_backend.py:4070: The name tf.nn.max_pool is deprecated. Please use tf.nn.max_pool2d instead.\n",
      "\n"
     ]
    }
   ],
   "source": [
    "model.add(Conv2D(32,kernel_size = (3,3),activation = 'relu',input_shape = (28,28,3)))\n",
    "model.add(Conv2D(64,(3,3),activation = 'relu'))\n",
    "model.add(MaxPooling2D(pool_size = (2,2)))\n",
    "model.add(Dropout(0.25))\n",
    "model.add(Flatten())\n",
    "model.add(Dense(128, activation='relu'))\n",
    "model.add(Dropout(0.5))\n",
    "model.add(Dense(10, activation='softmax'))"
   ]
  },
  {
   "cell_type": "code",
   "execution_count": 55,
   "metadata": {},
   "outputs": [],
   "source": [
    "model.compile(optimizer='adam',loss = 'categorical_crossentropy',metrics=['accuracy'])"
   ]
  },
  {
   "cell_type": "code",
   "execution_count": 48,
   "metadata": {},
   "outputs": [],
   "source": [
    "from keras.callbacks import EarlyStopping"
   ]
  },
  {
   "cell_type": "code",
   "execution_count": 52,
   "metadata": {},
   "outputs": [],
   "source": [
    "early_stop = EarlyStopping(monitor='val_loss',patience = 5,mode = 'min')"
   ]
  },
  {
   "cell_type": "code",
   "execution_count": 51,
   "metadata": {},
   "outputs": [
    {
     "data": {
      "text/plain": [
       "keras.preprocessing.image.DirectoryIterator"
      ]
     },
     "execution_count": 51,
     "metadata": {},
     "output_type": "execute_result"
    }
   ],
   "source": [
    "type(train_data)"
   ]
  },
  {
   "cell_type": "code",
   "execution_count": 59,
   "metadata": {},
   "outputs": [
    {
     "name": "stdout",
     "output_type": "stream",
     "text": [
      "Epoch 1/10\n",
      "919/919 [==============================] - 648s 705ms/step - loss: 1.0682 - val_loss: 0.0111\n",
      "Epoch 2/10\n",
      "919/919 [==============================] - 5560s 6s/step - loss: 0.2240 - val_loss: 0.0674\n",
      "Epoch 3/10\n",
      "919/919 [==============================] - 691s 752ms/step - loss: 0.1666 - val_loss: 0.0552\n",
      "Epoch 4/10\n",
      "919/919 [==============================] - 709s 772ms/step - loss: 0.1442 - val_loss: 0.0018\n",
      "Epoch 5/10\n",
      "919/919 [==============================] - 2716s 3s/step - loss: 0.1246 - val_loss: 2.9237e-04\n",
      "Epoch 6/10\n",
      "919/919 [==============================] - 700s 762ms/step - loss: 0.1164 - val_loss: 4.7818e-04\n",
      "Epoch 7/10\n",
      "919/919 [==============================] - 682s 742ms/step - loss: 0.1080 - val_loss: 0.0302\n",
      "Epoch 8/10\n",
      "919/919 [==============================] - 683s 743ms/step - loss: 0.0929 - val_loss: 5.0294e-04\n",
      "Epoch 9/10\n",
      "919/919 [==============================] - 680s 739ms/step - loss: 0.0907 - val_loss: 0.0252\n",
      "Epoch 10/10\n",
      "919/919 [==============================] - 678s 738ms/step - loss: 0.0840 - val_loss: 0.0470\n"
     ]
    }
   ],
   "source": [
    "model.fit_generator(train_data,epochs=10,verbose=1,validation_data=val_data)\n",
    "model.save('my_model.h5')"
   ]
  },
  {
   "cell_type": "code",
   "execution_count": 63,
   "metadata": {},
   "outputs": [],
   "source": [
    "losses = model.history.history"
   ]
  },
  {
   "cell_type": "code",
   "execution_count": 69,
   "metadata": {},
   "outputs": [
    {
     "data": {
      "text/plain": [
       "{'val_loss': [0.011120976880192757,\n",
       "  0.06736709922552109,\n",
       "  0.0552058219909668,\n",
       "  0.0018447944894433022,\n",
       "  0.0002923664287663996,\n",
       "  0.00047818059101700783,\n",
       "  0.030162621289491653,\n",
       "  0.0005029410822317004,\n",
       "  0.02516973577439785,\n",
       "  0.046963758766651154],\n",
       " 'loss': [1.0682434052565426,\n",
       "  0.22399739742430072,\n",
       "  0.1665694650696899,\n",
       "  0.14422824574131968,\n",
       "  0.12462361946537556,\n",
       "  0.11642504063656739,\n",
       "  0.10800160104228639,\n",
       "  0.09286294233268287,\n",
       "  0.09074530565882906,\n",
       "  0.0839960246345133]}"
      ]
     },
     "execution_count": 69,
     "metadata": {},
     "output_type": "execute_result"
    }
   ],
   "source": [
    "losses"
   ]
  },
  {
   "cell_type": "code",
   "execution_count": 88,
   "metadata": {},
   "outputs": [
    {
     "data": {
      "image/png": "[encoded data removed]",
      "text/plain": [
       "<Figure size 432x288 with 1 Axes>"
      ]
     },
     "metadata": {
      "needs_background": "light"
     },
     "output_type": "display_data"
    }
   ],
   "source": [
    "plt.plot(model.history.history['loss'])\n",
    "plt.plot(model.history.history['val_loss'])\n",
    "plt.title('Model loss')\n",
    "plt.ylabel('Loss')\n",
    "plt.xlabel('Epoch')\n",
    "plt.legend(['Train', 'Test'], loc='upper right')\n",
    "plt.show()"
   ]
  },
  {
   "cell_type": "code",
   "execution_count": 118,
   "metadata": {},
   "outputs": [],
   "source": [
    "from keras.preprocessing import image"
   ]
  },
  {
   "cell_type": "code",
   "execution_count": 143,
   "metadata": {},
   "outputs": [],
   "source": [
    "def open_image(path):\n",
    "    img = image.load_img(path)\n",
    "    img2  = image.img_to_array(img)\n",
    "    img3  = img2.reshape((1,) + img2.shape)\n",
    "    return img3"
   ]
  },
  {
   "cell_type": "code",
   "execution_count": 147,
   "metadata": {},
   "outputs": [],
   "source": [
    "img = open_image('D:/mnist/testSet/testSet/img_1.jpg')"
   ]
  },
  {
   "cell_type": "code",
   "execution_count": 148,
   "metadata": {},
   "outputs": [
    {
     "data": {
      "text/plain": [
       "(1, 28, 28, 3)"
      ]
     },
     "execution_count": 148,
     "metadata": {},
     "output_type": "execute_result"
    }
   ],
   "source": [
    "img.shape #this shape is (batch,shape)i.e channel first type"
   ]
  },
  {
   "cell_type": "code",
   "execution_count": 150,
   "metadata": {},
   "outputs": [
    {
     "name": "stdout",
     "output_type": "stream",
     "text": [
      "Number:  2\n"
     ]
    }
   ],
   "source": [
    "print(\"Number: \",model.predict_classes(img)[0])"
   ]
  }
 ],
 "metadata": {
  "kernelspec": {
   "display_name": "Python 3",
   "language": "python",
   "name": "python3"
  },
  "language_info": {
   "codemirror_mode": {
    "name": "ipython",
    "version": 3
   },
   "file_extension": ".py",
   "mimetype": "text/x-python",
   "name": "python",
   "nbconvert_exporter": "python",
   "pygments_lexer": "ipython3",
   "version": "3.7.4"
  }
 },
 "nbformat": 4,
 "nbformat_minor": 4
}
